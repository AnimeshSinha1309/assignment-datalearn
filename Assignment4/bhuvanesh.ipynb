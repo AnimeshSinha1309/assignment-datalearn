{
 "cells": [
  {
   "cell_type": "markdown",
   "metadata": {},
   "source": [
    "# Assignment 2 - Part 3\n",
    "\n",
    "```\n",
    "Team 37\n",
    "Avani Gupta\n",
    "Bhuvanesh Sridharan\n",
    "```"
   ]
  },
  {
   "cell_type": "code",
   "execution_count": 2,
   "metadata": {},
   "outputs": [
    {
     "name": "stdout",
     "output_type": "stream",
     "text": [
      "Defaulting to user installation because normal site-packages is not writeable\n",
      "Collecting cvxpy\n",
      "  Using cached cvxpy-1.0.31.tar.gz (947 kB)\n",
      "  Installing build dependencies ... \u001b[?25lerror\n",
      "\u001b[31m  ERROR: Command errored out with exit status 1:\n",
      "   command: /usr/bin/python3 /home/animesh/.local/lib/python3.6/site-packages/pip install --ignore-installed --no-user --prefix /tmp/pip-build-env-aw2kqp4m/overlay --no-warn-script-location --no-binary :none: --only-binary :none: -i https://pypi.org/simple -- 'numpy >= 1.15' 'scipy >= 1.1.0' 'setuptools>=40.8.0' wheel\n",
      "       cwd: None\n",
      "  Complete output (39 lines):\n",
      "  Traceback (most recent call last):\n",
      "    File \"/usr/lib/python3.6/runpy.py\", line 193, in _run_module_as_main\n",
      "      \"__main__\", mod_spec)\n",
      "    File \"/usr/lib/python3.6/runpy.py\", line 85, in _run_code\n",
      "      exec(code, run_globals)\n",
      "    File \"/home/animesh/.local/lib/python3.6/site-packages/pip/__main__.py\", line 16, in <module>\n",
      "      from pip._internal.cli.main import main as _main  # isort:skip # noqa\n",
      "    File \"/home/animesh/.local/lib/python3.6/site-packages/pip/_internal/cli/main.py\", line 5, in <module>\n",
      "      import locale\n",
      "    File \"/usr/lib/python3.6/locale.py\", line 16, in <module>\n",
      "      import re\n",
      "    File \"/usr/lib/python3.6/re.py\", line 142, in <module>\n",
      "      class RegexFlag(enum.IntFlag):\n",
      "  AttributeError: module 'enum' has no attribute 'IntFlag'\n",
      "  Error in sys.excepthook:\n",
      "  Traceback (most recent call last):\n",
      "    File \"/usr/lib/python3/dist-packages/apport_python_hook.py\", line 53, in apport_excepthook\n",
      "      if not enabled():\n",
      "    File \"/usr/lib/python3/dist-packages/apport_python_hook.py\", line 24, in enabled\n",
      "      import re\n",
      "    File \"/usr/lib/python3.6/re.py\", line 142, in <module>\n",
      "      class RegexFlag(enum.IntFlag):\n",
      "  AttributeError: module 'enum' has no attribute 'IntFlag'\n",
      "  \n",
      "  Original exception was:\n",
      "  Traceback (most recent call last):\n",
      "    File \"/usr/lib/python3.6/runpy.py\", line 193, in _run_module_as_main\n",
      "      \"__main__\", mod_spec)\n",
      "    File \"/usr/lib/python3.6/runpy.py\", line 85, in _run_code\n",
      "      exec(code, run_globals)\n",
      "    File \"/home/animesh/.local/lib/python3.6/site-packages/pip/__main__.py\", line 16, in <module>\n",
      "      from pip._internal.cli.main import main as _main  # isort:skip # noqa\n",
      "    File \"/home/animesh/.local/lib/python3.6/site-packages/pip/_internal/cli/main.py\", line 5, in <module>\n",
      "      import locale\n",
      "    File \"/usr/lib/python3.6/locale.py\", line 16, in <module>\n",
      "      import re\n",
      "    File \"/usr/lib/python3.6/re.py\", line 142, in <module>\n",
      "      class RegexFlag(enum.IntFlag):\n",
      "  AttributeError: module 'enum' has no attribute 'IntFlag'\n",
      "  ----------------------------------------\u001b[0m\n",
      "\u001b[31mERROR: Command errored out with exit status 1: /usr/bin/python3 /home/animesh/.local/lib/python3.6/site-packages/pip install --ignore-installed --no-user --prefix /tmp/pip-build-env-aw2kqp4m/overlay --no-warn-script-location --no-binary :none: --only-binary :none: -i https://pypi.org/simple -- 'numpy >= 1.15' 'scipy >= 1.1.0' 'setuptools>=40.8.0' wheel Check the logs for full command output.\u001b[0m\n",
      "\u001b[?25h"
     ]
    }
   ],
   "source": [
    "!python3 -m pip install cvxpy"
   ]
  },
  {
   "cell_type": "code",
   "execution_count": 1,
   "metadata": {
    "scrolled": true
   },
   "outputs": [
    {
     "ename": "ModuleNotFoundError",
     "evalue": "No module named 'cvxpy'",
     "output_type": "error",
     "traceback": [
      "\u001b[0;31m---------------------------------------------------------------------------\u001b[0m",
      "\u001b[0;31mModuleNotFoundError\u001b[0m                       Traceback (most recent call last)",
      "\u001b[0;32m<ipython-input-1-f09751e7ea87>\u001b[0m in \u001b[0;36m<module>\u001b[0;34m\u001b[0m\n\u001b[1;32m      1\u001b[0m \u001b[0;32mimport\u001b[0m \u001b[0mnumpy\u001b[0m \u001b[0;32mas\u001b[0m \u001b[0mnp\u001b[0m\u001b[0;34m\u001b[0m\u001b[0;34m\u001b[0m\u001b[0m\n\u001b[0;32m----> 2\u001b[0;31m \u001b[0;32mimport\u001b[0m \u001b[0mcvxpy\u001b[0m \u001b[0;32mas\u001b[0m \u001b[0mcp\u001b[0m\u001b[0;34m\u001b[0m\u001b[0;34m\u001b[0m\u001b[0m\n\u001b[0m",
      "\u001b[0;31mModuleNotFoundError\u001b[0m: No module named 'cvxpy'"
     ]
    }
   ],
   "source": [
    "import numpy as np\n",
    "import cvxpy as cp"
   ]
  },
  {
   "cell_type": "markdown",
   "metadata": {},
   "source": [
    "State is of the form $\\longrightarrow [\\text{enemy_health}\\in\\{0..4\\}, \\text{arrows}\\in\\{0..3\\},\\text{stamina}\\in\\{0..2\\}]$\n",
    "\n",
    "Action $\\in$ {NOOP, SHOOT, DODGE, RECHARGE}"
   ]
  },
  {
   "cell_type": "code",
   "execution_count": null,
   "metadata": {},
   "outputs": [],
   "source": [
    "ACTIONS = [\"NOOP\", \"SHOOT\", \"DODGE\", \"RECHARGE\" ]"
   ]
  },
  {
   "cell_type": "code",
   "execution_count": 2,
   "metadata": {},
   "outputs": [],
   "source": [
    "def kronecker(i :int, j :int):\n",
    "    if i==j:\n",
    "        return 1\n",
    "    else:\n",
    "        return 0"
   ]
  },
  {
   "cell_type": "code",
   "execution_count": 4,
   "metadata": {},
   "outputs": [],
   "source": [
    "def intToList(s :int):\n",
    "    return [s//12, (s%12)//3, s%3]\n",
    "\n",
    "def listToInt(s :list):\n",
    "    return s[0]*12 + s[1]*3 + s[2]"
   ]
  },
  {
   "cell_type": "code",
   "execution_count": 5,
   "metadata": {
    "scrolled": true
   },
   "outputs": [],
   "source": [
    "def gameLogic(s:int, a:int):\n",
    "    \"\"\"\n",
    "    Params: s=State, a=action\n",
    "    Returns a dictionary with \n",
    "    key: state\n",
    "    value: probability\n",
    "    when action a is performed in state s\"\"\"\n",
    "    probs = dict()\n",
    "    if ACTIONS[a] == \"NOOP\":\n",
    "        # enemy health = 0 then NOOP gives back same state with\n",
    "        # prob = 1.0\n",
    "        if intToList(s)[0] == 0:\n",
    "            probs[s] = 1.0\n",
    "        return probs\n",
    "    \n",
    "    # If action is not NOOP and MD health is 0 then no action can be taken\n",
    "    if intToList(s)[0] == 0:\n",
    "        return probs\n",
    "    \n",
    "    if ACTIONS[a] == \"SHOOT\":     \n",
    "        # Checking that stamina and arrow not zero:\n",
    "        if intToList(s)[1] != 0 and intToList(s)[2] != 0:\n",
    "            temp = intToList(s)\n",
    "            \n",
    "            # decreasing stamina and arrows by 1\n",
    "            temp[1] -= 1\n",
    "            temp[2] -= 1\n",
    "            \n",
    "            # 0.5 prob that health stays same:\n",
    "            probs[listToInt(temp)] = 0.5\n",
    "            \n",
    "            # prob that the health decreases.\n",
    "            temp[0] -= 1\n",
    "            probs[listToInt(temp)] = 0.5\n",
    "            \n",
    "    if ACTIONS[a] == \"DODGE\":\n",
    "        state = intToList(s)\n",
    "        if state[2] == 0: # stamina 0\n",
    "            return probs\n",
    "        \n",
    "        if state[2] == 1: #stamina 50\n",
    "            \n",
    "            if state[1] != 3: #arrows not full\n",
    "                \n",
    "                # arrow picked\n",
    "                temp = state.copy()\n",
    "                temp[2] = 0\n",
    "                temp[1] += 1\n",
    "                probs[listToInt(temp)] = 0.8\n",
    "                \n",
    "                # arrow not picked\n",
    "                temp = state.copy()\n",
    "                temp[2] = 0\n",
    "                probs[listToInt(temp)] = 0.2\n",
    "                \n",
    "                return probs\n",
    "            \n",
    "            if state[1] == 3: #Arrows Full\n",
    "                temp = state.copy()\n",
    "                temp[2] = 0\n",
    "                probs[listToInt(temp)] = 1.0\n",
    "                return probs\n",
    "            \n",
    "        if state[2] == 2: #stamina is 100\n",
    "            \n",
    "            if state[1] != 3: #arrows not full\n",
    "                \n",
    "                # stamina decreases to 50 and arrow picked\n",
    "                temp = state.copy()\n",
    "                temp[2] = 1\n",
    "                temp[1] += 1\n",
    "                probs[listToInt(temp)] = 0.8 * 0.8\n",
    "                \n",
    "                # stamina decreases to 0 and arrow picked\n",
    "                temp = state.copy()\n",
    "                temp[2] = 0\n",
    "                temp[1] += 1\n",
    "                probs[listToInt(temp)] = 0.2 * 0.8\n",
    "                \n",
    "                #stamina decreases to 50 and arrow not picked\n",
    "                temp = state.copy()\n",
    "                temp[2] = 1\n",
    "                probs[listToInt(temp)] = 0.8 * 0.2\n",
    "                \n",
    "                #stamina decreased to 0 and arrow not picked\n",
    "                temp = state.copy()\n",
    "                temp[2] = 0\n",
    "                probs[listToInt(temp)] = 0.2 * 0.2\n",
    "                \n",
    "                return probs\n",
    "            \n",
    "            if state[1] == 3: #arrows full\n",
    "                \n",
    "                # stamina decreases to 50:\n",
    "                temp = state.copy()\n",
    "                temp[2] = 1\n",
    "                probs[listToInt(temp)] = 0.8\n",
    "                \n",
    "                #stamina decreases to 0:\n",
    "                temp = state.copy()\n",
    "                temp[2] = 0\n",
    "                probs[listToInt(temp)] = 0.2\n",
    "                \n",
    "                return probs\n",
    "    if ACTIONS[a] == \"RECHARGE\":\n",
    "        state = intToList(s)\n",
    "        \n",
    "        if state[2] == 2: #stamina is 100\n",
    "            return probs\n",
    "        \n",
    "        if state[2] != 2:\n",
    "            \n",
    "            # stamina increases by 50\n",
    "            temp = state.copy()\n",
    "            temp[2] += 1\n",
    "            probs[listToInt(temp)] = 0.8\n",
    "            \n",
    "            #stamina stays the same\n",
    "            temp = state.copy()\n",
    "            probs[listToInt(temp)] = 0.2\n",
    "            \n",
    "            return probs\n",
    "    return probs\n",
    "        \n",
    "    "
   ]
  },
  {
   "cell_type": "code",
   "execution_count": 6,
   "metadata": {},
   "outputs": [],
   "source": [
    "def P(i :int , j:int , a:int):\n",
    "    \"\"\"\n",
    "    returns probabilty of system going to state j\n",
    "    when action a is performed in state i\n",
    "    \"\"\"\n",
    "    \n",
    "    probs = gameLogic(i, a)\n",
    "    \n",
    "    return probs.get(j, 0.0)"
   ]
  },
  {
   "cell_type": "markdown",
   "metadata": {},
   "source": [
    "## Creating array A:\n",
    "\n",
    "x = Array with shape  $(4 \\times 60, 1)$\n",
    "\n",
    "$\\alpha$ = Array with shape $(60, 1)$\n",
    "\n",
    "A = Array with shape $(60, 4 \\times 60)$ \n",
    "\n",
    "X = $[ x_{00}, x_{01}, x_{02}, ... ]$"
   ]
  },
  {
   "cell_type": "code",
   "execution_count": 7,
   "metadata": {},
   "outputs": [],
   "source": [
    "A = np.zeros((60,4*60))"
   ]
  },
  {
   "cell_type": "code",
   "execution_count": 8,
   "metadata": {},
   "outputs": [],
   "source": [
    "for x_ind in range(4*60):\n",
    "    for j in range(60):\n",
    "        A[j][x_ind] = kronecker(x_ind//4, j) - P(x_ind//4, j, x_ind%4)"
   ]
  },
  {
   "cell_type": "markdown",
   "metadata": {},
   "source": [
    "### Creating $\\alpha$ \n",
    "\n",
    "All elements 0 except begin state"
   ]
  },
  {
   "cell_type": "code",
   "execution_count": 9,
   "metadata": {},
   "outputs": [],
   "source": [
    "alpha = np.zeros((60,1))\n",
    "start_state = [4,3,2]\n",
    "alpha[listToInt(start_state)][0] = 1"
   ]
  },
  {
   "cell_type": "code",
   "execution_count": 10,
   "metadata": {},
   "outputs": [
    {
     "data": {
      "text/plain": [
       "59"
      ]
     },
     "execution_count": 10,
     "metadata": {},
     "output_type": "execute_result"
    }
   ],
   "source": [
    "listToInt(start_state)"
   ]
  },
  {
   "cell_type": "markdown",
   "metadata": {},
   "source": [
    "### Creating R (Reward funcition for action at each state)\n",
    "\n",
    "Dimentions : $(1, 4 \\times 60)$\n",
    "\n"
   ]
  },
  {
   "cell_type": "code",
   "execution_count": 11,
   "metadata": {},
   "outputs": [
    {
     "name": "stdout",
     "output_type": "stream",
     "text": [
      "Penalty for action : -10.0\n"
     ]
    }
   ],
   "source": [
    "teamNumber = 37\n",
    "penaltyArray = [0.5, 1, 2]\n",
    "penalty = -10/penaltyArray[teamNumber%3]\n",
    "print(\"Penalty for action : \"+ str(penalty))"
   ]
  },
  {
   "cell_type": "code",
   "execution_count": 12,
   "metadata": {},
   "outputs": [],
   "source": [
    "R = np.zeros((1,4*60))\n",
    "\n",
    "for x_ind in range(4*60):\n",
    "    \n",
    "    R[0][x_ind] = penalty\n",
    "    state = x_ind//4\n",
    "    action = x_ind%4\n",
    "    ninf = -100 # using as negative infinity\n",
    "    stateList = intToList(state)\n",
    "    \n",
    "    if stateList[0] == 0: #dragon health 0\n",
    "        if ACTIONS[action] == \"NOOP\":\n",
    "            R[0][x_ind] = 0\n",
    "        else :\n",
    "            R[0][x_ind] = ninf\n",
    "            A[:,x_ind] = ninf\n",
    "        continue\n",
    "            \n",
    "    if stateList[2] == 0: #stamina is 0\n",
    "        if ACTIONS[action] == \"SHOOT\" or ACTIONS[action] == \"DODGE\":\n",
    "            R[0][x_ind] = ninf\n",
    "            A[:,x_ind] = ninf\n",
    "                \n",
    "    if stateList[2] == 2: #stamina is 100\n",
    "        if ACTIONS[action] == \"RECHARGE\":\n",
    "            R[0][x_ind] = ninf\n",
    "            A[:,x_ind] = ninf\n",
    "        \n",
    "    if stateList[1] == 0: #arrows is 0\n",
    "        if ACTIONS[action] == \"SHOOT\":\n",
    "            R[0][x_ind] = ninf\n",
    "            A[:,x_ind] = ninf\n"
   ]
  },
  {
   "cell_type": "code",
   "execution_count": 15,
   "metadata": {},
   "outputs": [
    {
     "data": {
      "text/plain": [
       "array([[   0. , -100. , -100. , ...,    0. ,    0. , -100. ],\n",
       "       [   0. , -100. , -100. , ...,    0. ,    0. , -100. ],\n",
       "       [   0. , -100. , -100. , ...,    0. ,    0. , -100. ],\n",
       "       ...,\n",
       "       [   0. , -100. , -100. , ...,    0. ,   -0.2, -100. ],\n",
       "       [   0. , -100. , -100. , ...,    0. ,   -0.8, -100. ],\n",
       "       [   0. , -100. , -100. , ...,    1. ,    1. , -100. ]])"
      ]
     },
     "execution_count": 15,
     "metadata": {},
     "output_type": "execute_result"
    }
   ],
   "source": [
    "A"
   ]
  },
  {
   "cell_type": "code",
   "execution_count": 16,
   "metadata": {
    "scrolled": true
   },
   "outputs": [
    {
     "name": "stdout",
     "output_type": "stream",
     "text": [
      "-9.999999999974833\n",
      "[[ 2.71500348e-14]\n",
      " [ 5.43693929e-14]\n",
      " [ 5.81678658e-14]\n",
      " [-2.58021052e-16]\n",
      " [ 3.50049145e-14]\n",
      " [-2.58021012e-16]\n",
      " [-2.58021012e-16]\n",
      " [ 6.40666442e-14]\n",
      " [ 3.37310664e-14]\n",
      " [-2.58021011e-16]\n",
      " [ 5.79316263e-14]\n",
      " [ 6.43645201e-14]\n",
      " [ 3.20653653e-14]\n",
      " [-2.58021012e-16]\n",
      " [ 6.14289955e-14]\n",
      " [-2.58021052e-16]\n",
      " [ 3.99017864e-14]\n",
      " [-2.58021011e-16]\n",
      " [-2.58021011e-16]\n",
      " [ 6.91017045e-14]\n",
      " [ 3.21385944e-14]\n",
      " [ 6.03093357e-14]\n",
      " [ 5.60918415e-14]\n",
      " [ 6.68844085e-14]\n",
      " [ 2.71432170e-14]\n",
      " [ 5.67075469e-14]\n",
      " [ 5.70513298e-14]\n",
      " [-2.58021012e-16]\n",
      " [ 3.90379325e-14]\n",
      " [-2.58021052e-16]\n",
      " [-2.58021012e-16]\n",
      " [ 6.86519336e-14]\n",
      " [ 3.18245327e-14]\n",
      " [ 5.54316498e-14]\n",
      " [ 5.60834233e-14]\n",
      " [ 6.66840250e-14]\n",
      " [ 2.70678984e-14]\n",
      " [ 5.81732383e-14]\n",
      " [ 5.78954519e-14]\n",
      " [-2.58021052e-16]\n",
      " [ 3.88664354e-14]\n",
      " [-2.58021012e-16]\n",
      " [-2.58021011e-16]\n",
      " [ 6.94728462e-14]\n",
      " [ 3.05294789e-14]\n",
      " [ 5.46757541e-14]\n",
      " [ 5.48526927e-14]\n",
      " [ 6.57460661e-14]\n",
      " [ 2.70325677e-14]\n",
      " [ 5.83131006e-14]\n",
      " [ 5.80677626e-14]\n",
      " [-2.58021011e-16]\n",
      " [ 3.49873181e-14]\n",
      " [-2.58021012e-16]\n",
      " [-2.58021011e-16]\n",
      " [ 6.40328035e-14]\n",
      " [ 3.37558783e-14]\n",
      " [-2.58021011e-16]\n",
      " [ 5.74316733e-14]\n",
      " [ 6.43835216e-14]\n",
      " [ 3.20664395e-14]\n",
      " [-2.58021012e-16]\n",
      " [ 6.13755496e-14]\n",
      " [-2.58021012e-16]\n",
      " [ 4.05342615e-14]\n",
      " [-2.58021011e-16]\n",
      " [-2.58021052e-16]\n",
      " [ 6.96895762e-14]\n",
      " [ 3.20572426e-14]\n",
      " [ 6.02153521e-14]\n",
      " [ 5.41097658e-14]\n",
      " [ 6.61030573e-14]\n",
      " [ 2.80250210e-14]\n",
      " [ 5.75746466e-14]\n",
      " [-1.77971292e-14]\n",
      " [-2.58021012e-16]\n",
      " [ 4.11333189e-14]\n",
      " [-2.58021011e-16]\n",
      " [-2.58021011e-16]\n",
      " [-2.20894066e-14]\n",
      " [ 1.48549469e-13]\n",
      " [ 1.75904202e-13]\n",
      " [ 1.75828815e-13]\n",
      " [ 1.60943668e-13]\n",
      " [ 2.81711767e-14]\n",
      " [ 5.93518586e-14]\n",
      " [ 3.98349577e-14]\n",
      " [-2.58021012e-16]\n",
      " [ 4.00043503e-14]\n",
      " [-2.58021011e-16]\n",
      " [-2.58021011e-16]\n",
      " [ 7.04821209e-14]\n",
      " [ 3.04378439e-14]\n",
      " [ 5.34772116e-14]\n",
      " [ 5.35608794e-14]\n",
      " [ 6.51151286e-14]\n",
      " [ 2.77176730e-14]\n",
      " [ 2.40128786e-16]\n",
      " [ 5.86096484e-14]\n",
      " [-2.58021052e-16]\n",
      " [ 3.25801369e-14]\n",
      " [-2.58021011e-16]\n",
      " [-2.58021012e-16]\n",
      " [ 6.39990888e-14]\n",
      " [ 3.13833555e-14]\n",
      " [-2.58021012e-16]\n",
      " [ 5.79706123e-14]\n",
      " [ 6.26389306e-14]\n",
      " [ 3.19572040e-14]\n",
      " [-2.58021012e-16]\n",
      " [ 6.36743578e-14]\n",
      " [-2.58021052e-16]\n",
      " [ 3.75733270e-14]\n",
      " [-2.58021011e-16]\n",
      " [-2.58021012e-16]\n",
      " [ 6.91708042e-14]\n",
      " [ 2.96678819e-14]\n",
      " [ 5.90802104e-14]\n",
      " [ 5.43334807e-14]\n",
      " [ 6.44371966e-14]\n",
      " [ 2.78279161e-14]\n",
      " [ 5.85347444e-14]\n",
      " [-9.78149495e-15]\n",
      " [-2.58021012e-16]\n",
      " [ 3.86988576e-14]\n",
      " [-2.58021052e-16]\n",
      " [-2.58021012e-16]\n",
      " [-1.53903098e-14]\n",
      " [ 1.37132554e-13]\n",
      " [ 1.65080452e-13]\n",
      " [ 1.25556675e-13]\n",
      " [ 1.50894706e-13]\n",
      " [ 2.92002702e-14]\n",
      " [ 6.16227582e-14]\n",
      " [-6.73848267e-14]\n",
      " [-2.58021052e-16]\n",
      " [ 8.56003453e-14]\n",
      " [-2.58021052e-16]\n",
      " [-2.58021012e-16]\n",
      " [-2.24674642e-14]\n",
      " [ 2.06247357e-13]\n",
      " [ 2.37092470e-13]\n",
      " [ 1.83680908e-13]\n",
      " [-7.52052399e-13]\n",
      " [ 1.00000000e+00]\n",
      " [ 1.81746199e-11]\n",
      " [ 1.60277384e-11]\n",
      " [-2.58021012e-16]]\n"
     ]
    },
    {
     "data": {
      "text/plain": [
       "array([[-10.]])"
      ]
     },
     "execution_count": 16,
     "metadata": {},
     "output_type": "execute_result"
    }
   ],
   "source": [
    "x = cp.Variable(shape=(240,1), name=\"x\")\n",
    "\n",
    "constraints = [cp.matmul(A, x) <= alpha,cp.matmul(A, x) >= alpha, x>=0]\n",
    "objective = cp.Maximize(cp.matmul(R,x))\n",
    "problem = cp.Problem(objective, constraints)\n",
    "\n",
    "solution = problem.solve()\n",
    "print(solution)\n",
    "\n",
    "print(x.value[listToInt([1,3,2])*4:])\n",
    "np.matmul(R,x.value)"
   ]
  },
  {
   "cell_type": "code",
   "execution_count": null,
   "metadata": {},
   "outputs": [],
   "source": []
  }
 ],
 "metadata": {
  "kernelspec": {
   "display_name": "Python 3",
   "language": "python",
   "name": "python3"
  },
  "language_info": {
   "codemirror_mode": {
    "name": "ipython",
    "version": 3
   },
   "file_extension": ".py",
   "mimetype": "text/x-python",
   "name": "python",
   "nbconvert_exporter": "python",
   "pygments_lexer": "ipython3",
   "version": "3.6.8"
  }
 },
 "nbformat": 4,
 "nbformat_minor": 4
}
